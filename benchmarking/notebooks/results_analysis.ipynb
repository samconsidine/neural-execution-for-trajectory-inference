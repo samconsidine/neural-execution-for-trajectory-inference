{
 "cells": [
  {
   "cell_type": "code",
   "execution_count": 15,
   "metadata": {},
   "outputs": [],
   "source": [
    "import pandas as pd\n",
    "import matplotlib.pyplot as plt\n",
    "import seaborn as sns\n",
    "\n",
    "sns.set_context('paper')\n",
    "sns.set_theme(style=\"whitegrid\")\n",
    "plt.rcParams['figure.figsize'] = 14, 10\n",
    "\n",
    "thesis_dir = '/home/sam/thesis/report/figures'\n",
    "\n",
    "hue_order = ['NARTI', 'monocle', 'paga', 'slingshot']"
   ]
  },
  {
   "cell_type": "code",
   "execution_count": 9,
   "metadata": {},
   "outputs": [],
   "source": [
    "fps = [\n",
    "    '../result/result_other_methods.csv',\n",
    "    '../result/result_narti.csv'\n",
    "]\n",
    "\n",
    "df = pd.concat([pd.read_csv(fp) for fp in fps])\n",
    "\n",
    "topology_dict = {\n",
    "    'aging': 'linear',\n",
    "    'human_embryos': 'linear',\n",
    "    'germline': 'bifurcating',\n",
    "    'mesoderm': 'tree',\n",
    "    'human_embryos': 'cyclic',\n",
    "    'dentate': 'linear',\n",
    "    'fibroblast': 'bifurcating',\n",
    "    'planaria_muscle': 'bifurcating',\n",
    "    'planaria_full': 'tree',\n",
    "    'immune': 'disconnected',\n",
    "    'linear_1': 'linear',\n",
    "    'linear_2': 'linear',\n",
    "    'linear_3': 'linear',\n",
    "    'bifurcating_1': 'bifurcating',\n",
    "    'bifurcating_2': 'bifurcating',\n",
    "    'bifurcating_3': 'bifurcating',\n",
    "    'trifurcating_1': 'multifurcating',\n",
    "    'trifurcating_2': 'multifurcating',\n",
    "    'cycle_1': 'cyclic',\n",
    "    'cycle_2': 'cyclic',\n",
    "    'cycle_3': 'cyclic',\n",
    "    'linear': 'linear',\n",
    "    'bifurcation': 'bifurcating',\n",
    "    'tree': 'tree',\n",
    "    'converging_1': 'tree'\n",
    "}\n",
    "df['topology'] = df['data'].map(topology_dict)\n"
   ]
  },
  {
   "cell_type": "code",
   "execution_count": 10,
   "metadata": {},
   "outputs": [
    {
     "data": {
      "text/plain": [
       "array(['aging', 'bifurcating_1', 'bifurcating_2', 'bifurcating_3',\n",
       "       'bifurcation', 'cell_cycle', 'converging_1', 'cycle_1', 'cycle_2',\n",
       "       'cycle_3', 'dentate', 'fibroblast', 'germline', 'human_embryos',\n",
       "       'immune', 'linear', 'linear_1', 'linear_2', 'linear_3', 'mesoderm',\n",
       "       'multifurcating', 'neonatal', 'planaria_full', 'planaria_muscle',\n",
       "       'tree', 'trifurcating_1', 'trifurcating_2'], dtype=object)"
      ]
     },
     "execution_count": 10,
     "metadata": {},
     "output_type": "execute_result"
    }
   ],
   "source": [
    "df.data.unique()"
   ]
  },
  {
   "cell_type": "code",
   "execution_count": 11,
   "metadata": {},
   "outputs": [
    {
     "data": {
      "text/html": [
       "<div>\n",
       "<style scoped>\n",
       "    .dataframe tbody tr th:only-of-type {\n",
       "        vertical-align: middle;\n",
       "    }\n",
       "\n",
       "    .dataframe tbody tr th {\n",
       "        vertical-align: top;\n",
       "    }\n",
       "\n",
       "    .dataframe thead th {\n",
       "        text-align: right;\n",
       "    }\n",
       "</style>\n",
       "<table border=\"1\" class=\"dataframe\">\n",
       "  <thead>\n",
       "    <tr style=\"text-align: right;\">\n",
       "      <th></th>\n",
       "      <th>method</th>\n",
       "      <th>data</th>\n",
       "      <th>source</th>\n",
       "      <th>topology</th>\n",
       "      <th>metric</th>\n",
       "      <th>value</th>\n",
       "    </tr>\n",
       "  </thead>\n",
       "  <tbody>\n",
       "    <tr>\n",
       "      <th>0</th>\n",
       "      <td>monocle</td>\n",
       "      <td>aging</td>\n",
       "      <td>real</td>\n",
       "      <td>linear</td>\n",
       "      <td>GED score</td>\n",
       "      <td>0.333333</td>\n",
       "    </tr>\n",
       "    <tr>\n",
       "      <th>1</th>\n",
       "      <td>paga</td>\n",
       "      <td>aging</td>\n",
       "      <td>real</td>\n",
       "      <td>linear</td>\n",
       "      <td>GED score</td>\n",
       "      <td>0.333333</td>\n",
       "    </tr>\n",
       "    <tr>\n",
       "      <th>2</th>\n",
       "      <td>slingshot</td>\n",
       "      <td>aging</td>\n",
       "      <td>real</td>\n",
       "      <td>linear</td>\n",
       "      <td>GED score</td>\n",
       "      <td>0.333333</td>\n",
       "    </tr>\n",
       "    <tr>\n",
       "      <th>3</th>\n",
       "      <td>monocle</td>\n",
       "      <td>bifurcating_1</td>\n",
       "      <td>dyngen</td>\n",
       "      <td>bifurcating</td>\n",
       "      <td>GED score</td>\n",
       "      <td>0.000000</td>\n",
       "    </tr>\n",
       "    <tr>\n",
       "      <th>4</th>\n",
       "      <td>paga</td>\n",
       "      <td>bifurcating_1</td>\n",
       "      <td>dyngen</td>\n",
       "      <td>bifurcating</td>\n",
       "      <td>GED score</td>\n",
       "      <td>0.428571</td>\n",
       "    </tr>\n",
       "    <tr>\n",
       "      <th>...</th>\n",
       "      <td>...</td>\n",
       "      <td>...</td>\n",
       "      <td>...</td>\n",
       "      <td>...</td>\n",
       "      <td>...</td>\n",
       "      <td>...</td>\n",
       "    </tr>\n",
       "    <tr>\n",
       "      <th>530</th>\n",
       "      <td>NARTI</td>\n",
       "      <td>planaria_full</td>\n",
       "      <td>real</td>\n",
       "      <td>tree</td>\n",
       "      <td>PDT score</td>\n",
       "      <td>0.538594</td>\n",
       "    </tr>\n",
       "    <tr>\n",
       "      <th>531</th>\n",
       "      <td>NARTI</td>\n",
       "      <td>planaria_muscle</td>\n",
       "      <td>real</td>\n",
       "      <td>bifurcating</td>\n",
       "      <td>PDT score</td>\n",
       "      <td>0.839377</td>\n",
       "    </tr>\n",
       "    <tr>\n",
       "      <th>532</th>\n",
       "      <td>NARTI</td>\n",
       "      <td>tree</td>\n",
       "      <td>our model</td>\n",
       "      <td>tree</td>\n",
       "      <td>PDT score</td>\n",
       "      <td>0.665894</td>\n",
       "    </tr>\n",
       "    <tr>\n",
       "      <th>533</th>\n",
       "      <td>NARTI</td>\n",
       "      <td>trifurcating_1</td>\n",
       "      <td>dyngen</td>\n",
       "      <td>multifurcating</td>\n",
       "      <td>PDT score</td>\n",
       "      <td>0.593375</td>\n",
       "    </tr>\n",
       "    <tr>\n",
       "      <th>534</th>\n",
       "      <td>NARTI</td>\n",
       "      <td>trifurcating_2</td>\n",
       "      <td>dyngen</td>\n",
       "      <td>multifurcating</td>\n",
       "      <td>PDT score</td>\n",
       "      <td>0.592718</td>\n",
       "    </tr>\n",
       "  </tbody>\n",
       "</table>\n",
       "<p>535 rows × 6 columns</p>\n",
       "</div>"
      ],
      "text/plain": [
       "        method             data     source        topology     metric  \\\n",
       "0      monocle            aging       real          linear  GED score   \n",
       "1         paga            aging       real          linear  GED score   \n",
       "2    slingshot            aging       real          linear  GED score   \n",
       "3      monocle    bifurcating_1     dyngen     bifurcating  GED score   \n",
       "4         paga    bifurcating_1     dyngen     bifurcating  GED score   \n",
       "..         ...              ...        ...             ...        ...   \n",
       "530      NARTI    planaria_full       real            tree  PDT score   \n",
       "531      NARTI  planaria_muscle       real     bifurcating  PDT score   \n",
       "532      NARTI             tree  our model            tree  PDT score   \n",
       "533      NARTI   trifurcating_1     dyngen  multifurcating  PDT score   \n",
       "534      NARTI   trifurcating_2     dyngen  multifurcating  PDT score   \n",
       "\n",
       "        value  \n",
       "0    0.333333  \n",
       "1    0.333333  \n",
       "2    0.333333  \n",
       "3    0.000000  \n",
       "4    0.428571  \n",
       "..        ...  \n",
       "530  0.538594  \n",
       "531  0.839377  \n",
       "532  0.665894  \n",
       "533  0.593375  \n",
       "534  0.592718  \n",
       "\n",
       "[535 rows x 6 columns]"
      ]
     },
     "execution_count": 11,
     "metadata": {},
     "output_type": "execute_result"
    }
   ],
   "source": [
    "tidy = df.melt(id_vars=['method', 'data', 'source', 'topology'], value_vars=['GED score', 'IM score', 'ARI', 'GRI', 'PDT score'], var_name='metric')\n",
    "tidy"
   ]
  },
  {
   "cell_type": "code",
   "execution_count": 18,
   "metadata": {},
   "outputs": [
    {
     "data": {
      "image/png": "[encoded data removed]",
      "text/plain": [
       "<Figure size 1008x720 with 1 Axes>"
      ]
     },
     "metadata": {},
     "output_type": "display_data"
    }
   ],
   "source": [
    "\n",
    "sns.boxplot(data=tidy, y='value', x='metric', hue='method', hue_order=hue_order)\n",
    "plt.savefig(f'{thesis_dir}/MetricBreakdown.png')"
   ]
  },
  {
   "cell_type": "code",
   "execution_count": 13,
   "metadata": {},
   "outputs": [
    {
     "name": "stdout",
     "output_type": "stream",
     "text": [
      "/home/sam/thesis/report/figures/MetricBreakdown.png\n"
     ]
    }
   ],
   "source": [
    "print(f'{thesis_dir}/MetricBreakdown.png')"
   ]
  },
  {
   "cell_type": "code",
   "execution_count": 19,
   "metadata": {},
   "outputs": [
    {
     "data": {
      "image/png": "[encoded data removed]",
      "text/plain": [
       "<Figure size 1008x720 with 1 Axes>"
      ]
     },
     "metadata": {},
     "output_type": "display_data"
    }
   ],
   "source": [
    "sns.barplot(data=tidy, y='value', x='topology', hue='method', hue_order=hue_order)\n",
    "plt.ylabel('average score')\n",
    "plt.savefig(f'{thesis_dir}/TopologyBreakdown.png')"
   ]
  },
  {
   "cell_type": "code",
   "execution_count": null,
   "metadata": {},
   "outputs": [],
   "source": []
  }
 ],
 "metadata": {
  "interpreter": {
   "hash": "f79dbecc1001f014fa889d2c085255bc4dea521577a46635f5bf0604888519f6"
  },
  "kernelspec": {
   "display_name": "Python 3.9.12 ('thesis')",
   "language": "python",
   "name": "python3"
  },
  "language_info": {
   "codemirror_mode": {
    "name": "ipython",
    "version": 3
   },
   "file_extension": ".py",
   "mimetype": "text/x-python",
   "name": "python",
   "nbconvert_exporter": "python",
   "pygments_lexer": "ipython3",
   "version": "3.9.12"
  },
  "orig_nbformat": 4
 },
 "nbformat": 4,
 "nbformat_minor": 2
}
